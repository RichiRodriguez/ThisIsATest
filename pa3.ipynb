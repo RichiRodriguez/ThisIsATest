{
 "cells": [
  {
   "cell_type": "markdown",
   "metadata": {
    "colab_type": "text",
    "id": "rX8mhOLljYeM"
   },
   "source": [
    "##### Copyright 2019 The TensorFlow Authors."
   ]
  },
  {
   "cell_type": "code",
   "execution_count": null,
   "metadata": {
    "cellView": "form",
    "code_folding": [
     0,
     1
    ],
    "colab": {},
    "colab_type": "code",
    "id": "BZSlp3DAjdYf"
   },
   "outputs": [],
   "source": [
    "# Apache License\n",
    "#@title Licensed under the Apache License, Version 2.0 (the \"License\");\n",
    "# you may not use this file except in compliance with the License.\n",
    "# You may obtain a copy of the License at\n",
    "#\n",
    "# https://www.apache.org/licenses/LICENSE-2.0\n",
    "#\n",
    "# Unless required by applicable law or agreed to in writing, software\n",
    "# distributed under the License is distributed on an \"AS IS\" BASIS,\n",
    "# WITHOUT WARRANTIES OR CONDITIONS OF ANY KIND, either express or implied.\n",
    "# See the License for the specific language governing permissions and\n",
    "# limitations under the License."
   ]
  },
  {
   "cell_type": "markdown",
   "metadata": {
    "colab_type": "text",
    "id": "3wF5wszaj97Y"
   },
   "source": [
    "# TensorFlow 2 Quickstart and Learn By Numbers\n",
    "\n",
    "### Modified by Katherine Haynes and Richi Rodriguez"
   ]
  },
  {
   "cell_type": "markdown",
   "metadata": {
    "colab_type": "text",
    "id": "04QgGZc9bF5D"
   },
   "source": [
    "This short introduction uses [Keras](https://www.tensorflow.org/guide/keras/overview) to:\n",
    "\n",
    "1. Build a neural network that classifies images.\n",
    "2. Train this neural network.\n",
    "3. And, finally, evaluate the accuracy of the model.\n",
    "\n",
    "The introduction is followed by:\n",
    "1. Routine to plot all mis-matches.\n",
    "2. Sensitivity study of various epochs.\n",
    "3. Sensitivity study of various network widths and depths.\n",
    "4. Results using Sobel edge detection."
   ]
  },
  {
   "cell_type": "markdown",
   "metadata": {},
   "source": [
    "## Load Libraries"
   ]
  },
  {
   "cell_type": "code",
   "execution_count": 22,
   "metadata": {
    "code_folding": [],
    "colab": {},
    "colab_type": "code",
    "id": "0trJmd6DjqBZ"
   },
   "outputs": [],
   "source": [
    "# Load Libraries\n",
    "from __future__ import absolute_import, division, print_function, unicode_literals\n",
    "\n",
    "try:\n",
    "  # %tensorflow_version only exists in Colab.\n",
    "  %tensorflow_version 2.x\n",
    "except Exception:\n",
    "  pass\n",
    "import tensorflow as tf\n",
    "\n",
    "import cv2\n",
    "from IPython.core.display import Image\n",
    "import matplotlib.pyplot as plt\n",
    "import numpy as np\n",
    "import pandas\n",
    "from random import randint\n",
    "import time"
   ]
  },
  {
   "cell_type": "markdown",
   "metadata": {},
   "source": [
    "## Load Data"
   ]
  },
  {
   "cell_type": "markdown",
   "metadata": {
    "colab_type": "text",
    "id": "7NAbSZiaoJ4z"
   },
   "source": [
    "Load and prepare the [MNIST dataset](http://yann.lecun.com/exdb/mnist/). Convert the samples from integers to floating-point numbers:"
   ]
  },
  {
   "cell_type": "code",
   "execution_count": 2,
   "metadata": {
    "code_folding": [
     0
    ],
    "colab": {},
    "colab_type": "code",
    "id": "7FP5258xjs-v"
   },
   "outputs": [],
   "source": [
    "# Load MNIST\n",
    "mnist = tf.keras.datasets.mnist\n",
    "\n",
    "(x_train, y_train), (x_test, y_test) = mnist.load_data()\n",
    "x_train, x_test = x_train / 255.0, x_test / 255.0"
   ]
  },
  {
   "cell_type": "markdown",
   "metadata": {},
   "source": [
    "Print image shape and number of training/testing samples."
   ]
  },
  {
   "cell_type": "code",
   "execution_count": 3,
   "metadata": {
    "code_folding": [
     0
    ]
   },
   "outputs": [
    {
     "name": "stdout",
     "output_type": "stream",
     "text": [
      "Image Size: 28 x 28, Training Samples: 60000, Testing Samples: 10000\n"
     ]
    }
   ],
   "source": [
    "# Print MNIST Info\n",
    "ssize=x_train.shape\n",
    "tsize=x_test.shape\n",
    "nTrain=ssize[0]\n",
    "nImage=ssize[1]\n",
    "nTest=tsize[0]\n",
    "print('Image Size: {} x {}, Training Samples: {}, Testing Samples: {}'.format(\n",
    "    ssize[1],ssize[2],nTrain,nTest))"
   ]
  },
  {
   "cell_type": "markdown",
   "metadata": {},
   "source": [
    "Plot sample image."
   ]
  },
  {
   "cell_type": "code",
   "execution_count": 4,
   "metadata": {
    "code_folding": []
   },
   "outputs": [],
   "source": [
    "# Plot Sample Image\n",
    "plotSample = False\n",
    "if plotSample:\n",
    "   nRef = randint(0,nTrain-1)\n",
    "   myImage = cv2.resize(x_train[nRef,:,:],dsize=(nImage*10,nImage*10)) \n",
    "   string1 = 'Truth: ' + str(y_train[nRef])\n",
    "\n",
    "   winName = 'Sample MNIST Image'\n",
    "   font = cv2.FONT_HERSHEY_SIMPLEX\n",
    "   bottomLeftCornerOfText = (10,20)\n",
    "   fontScale = 0.5\n",
    "   fontColor = (255,255,255)\n",
    "   lineType = 2\n",
    "   cv2.putText(myImage,string1,\n",
    "            bottomLeftCornerOfText, font, fontScale, fontColor, lineType)\n",
    "\n",
    "   cv2.imshow(winName,myImage)\n",
    "   print(\"Press any key on image to continue...\")\n",
    "   cv2.waitKey(0)\n",
    "   cv2.destroyAllWindows()\n",
    "   cv2.waitKey(1)\n",
    "   print(\"You will have to reselect notebook to continue...\")"
   ]
  },
  {
   "cell_type": "markdown",
   "metadata": {},
   "source": [
    "## Define Plotting Routines"
   ]
  },
  {
   "cell_type": "code",
   "execution_count": 5,
   "metadata": {
    "code_folding": [
     0,
     1
    ]
   },
   "outputs": [],
   "source": [
    "# Plotting Routine To Display Mis-Matches\n",
    "def display_mismatch(X, predict, truth, waitK=400):\n",
    "    badref = np.where(predict != truth)[0]\n",
    "    nMismatch = badref.shape[0]\n",
    "    nImage1 = X.shape[1]\n",
    "    nImage2 = X.shape[2]\n",
    "\n",
    "    print('Displaying {} mismatches'.format(nMismatch))\n",
    "    print('Press q to exit at any time...')\n",
    "    for ref in badref:\n",
    "        img = cv2.resize(X[ref,:,:],dsize=(nImage1*10,nImage2*10))\n",
    "        stringT = 'Truth: ' + str(truth[ref])\n",
    "        stringP = 'Predicted: ' + str(predict[ref])\n",
    "        \n",
    "        winName = 'Mismatched MNIST Image'\n",
    "        font = cv2.FONT_HERSHEY_SIMPLEX\n",
    "        bottomLeftCornerT = (10,20)\n",
    "        bottomLeftCornerP = (10,270)\n",
    "        fontScale = 0.5\n",
    "        fontColorT = (200,200,200)\n",
    "        fontColorP = (100,100,255)\n",
    "        lineType = 2\n",
    "        cv2.putText(img,stringT,\n",
    "            bottomLeftCornerT, font, fontScale, fontColorT, lineType)\n",
    "        cv2.putText(img,stringP,\n",
    "            bottomLeftCornerP, font, fontScale, fontColorP, lineType)\n",
    "        cv2.imshow(winName,img)\n",
    "        key = cv2.waitKey(waitK)\n",
    "        if key == ord('q'):\n",
    "            break\n",
    "\n",
    "    cv2.destroyAllWindows()\n",
    "    cv2.waitKey(1)\n",
    "    print('Done')"
   ]
  },
  {
   "cell_type": "markdown",
   "metadata": {},
   "source": [
    "# --Tutorial Section--"
   ]
  },
  {
   "cell_type": "code",
   "execution_count": 6,
   "metadata": {},
   "outputs": [],
   "source": [
    "runTutorial = False"
   ]
  },
  {
   "cell_type": "markdown",
   "metadata": {},
   "source": [
    "## Build Model"
   ]
  },
  {
   "cell_type": "markdown",
   "metadata": {
    "colab_type": "text",
    "id": "BPZ68wASog_I"
   },
   "source": [
    "Build the `tf.keras.Sequential` model by stacking layers. Choose an optimizer and loss function for training:"
   ]
  },
  {
   "cell_type": "code",
   "execution_count": 7,
   "metadata": {
    "code_folding": [],
    "colab": {},
    "colab_type": "code",
    "id": "h3IKyzTCDNGo"
   },
   "outputs": [],
   "source": [
    "model = tf.keras.models.Sequential([\n",
    "  tf.keras.layers.Flatten(input_shape=(28, 28),dtype='float64'),\n",
    "  tf.keras.layers.Dense(128, activation='relu',dtype='float64'),\n",
    "  tf.keras.layers.Dropout(0.2,dtype='float64'),\n",
    "  tf.keras.layers.Dense(10,dtype='float64')\n",
    "])"
   ]
  },
  {
   "cell_type": "markdown",
   "metadata": {
    "colab_type": "text",
    "id": "l2hiez2eIUz8"
   },
   "source": [
    "For each example the model returns a vector of \"[logits](https://developers.google.com/machine-learning/glossary#logits)\" or \"[log-odds](https://developers.google.com/machine-learning/glossary#log-odds)\" scores, one for each class."
   ]
  },
  {
   "cell_type": "code",
   "execution_count": 8,
   "metadata": {
    "code_folding": [
     0
    ],
    "colab": {},
    "colab_type": "code",
    "id": "OeOrNdnkEEcR"
   },
   "outputs": [],
   "source": [
    "if runTutorial:\n",
    "   predictions = model(x_train[:1]).numpy()\n",
    "   print(predictions)"
   ]
  },
  {
   "cell_type": "markdown",
   "metadata": {
    "colab_type": "text",
    "id": "tgjhDQGcIniO"
   },
   "source": [
    "The `tf.nn.softmax` function converts these logits to \"probabilities\" for each class: "
   ]
  },
  {
   "cell_type": "code",
   "execution_count": 9,
   "metadata": {
    "code_folding": [
     0
    ],
    "colab": {},
    "colab_type": "code",
    "id": "zWSRnQ0WI5eq"
   },
   "outputs": [],
   "source": [
    "if runTutorial:\n",
    "   tf.nn.softmax(predictions).numpy()"
   ]
  },
  {
   "cell_type": "markdown",
   "metadata": {
    "colab_type": "text",
    "id": "he5u_okAYS4a"
   },
   "source": [
    "Note: It is possible to bake this `tf.nn.softmax` in as the activation function for the last layer of the network. While this can make the model output more directly interpretable, this approach is discouraged as it's impossible to\n",
    "provide an exact and numerically stable loss calculation for all models when using a softmax output. "
   ]
  },
  {
   "cell_type": "markdown",
   "metadata": {
    "colab_type": "text",
    "id": "hQyugpgRIyrA"
   },
   "source": [
    "The `losses.SparseCategoricalCrossentropy` loss takes a vector of logits and a `True` index and returns a scalar loss for each example."
   ]
  },
  {
   "cell_type": "code",
   "execution_count": 10,
   "metadata": {
    "colab": {},
    "colab_type": "code",
    "id": "RSkzdv8MD0tT"
   },
   "outputs": [],
   "source": [
    "loss_fn = tf.keras.losses.SparseCategoricalCrossentropy(from_logits=True)"
   ]
  },
  {
   "cell_type": "markdown",
   "metadata": {
    "colab_type": "text",
    "id": "SfR4MsSDU880"
   },
   "source": [
    "This loss is equal to the negative log probability of the the true class:\n",
    "It is zero if the model is sure of the correct class.\n",
    "\n",
    "This untrained model gives probabilities close to random (1/10 for each class), so the initial loss should be close to `-tf.log(1/10) ~= 2.3`."
   ]
  },
  {
   "cell_type": "code",
   "execution_count": 11,
   "metadata": {
    "code_folding": [
     0
    ],
    "colab": {},
    "colab_type": "code",
    "id": "NJWqEVrrJ7ZB"
   },
   "outputs": [],
   "source": [
    "if runTutorial:\n",
    "   loss_fn(y_train[:1], predictions).numpy()"
   ]
  },
  {
   "cell_type": "code",
   "execution_count": 12,
   "metadata": {
    "colab": {},
    "colab_type": "code",
    "id": "9foNKHzTD2Vo"
   },
   "outputs": [],
   "source": [
    "model.compile(optimizer='adam',\n",
    "              loss=loss_fn,\n",
    "              metrics=['accuracy'])"
   ]
  },
  {
   "cell_type": "markdown",
   "metadata": {},
   "source": [
    "## Train Model"
   ]
  },
  {
   "cell_type": "markdown",
   "metadata": {
    "colab_type": "text",
    "id": "ix4mEL65on-w"
   },
   "source": [
    "The `Model.fit` method adjusts the model parameters to minimize the loss: "
   ]
  },
  {
   "cell_type": "code",
   "execution_count": 13,
   "metadata": {
    "code_folding": [
     0
    ],
    "colab": {},
    "colab_type": "code",
    "id": "y7suUbJXVLqP"
   },
   "outputs": [],
   "source": [
    "if runTutorial:\n",
    "   nEpochs=1\n",
    "   model.fit(x_train, y_train, epochs=nEpochs)"
   ]
  },
  {
   "cell_type": "markdown",
   "metadata": {},
   "source": [
    "## Evaluate Model"
   ]
  },
  {
   "cell_type": "markdown",
   "metadata": {
    "colab_type": "text",
    "id": "4mDAAPFqVVgn"
   },
   "source": [
    "The `Model.evaluate` method checks the models performance, usually on a \"[Validation-set](https://developers.google.com/machine-learning/glossary#validation-set)\"."
   ]
  },
  {
   "cell_type": "code",
   "execution_count": 14,
   "metadata": {
    "code_folding": [
     0
    ],
    "colab": {},
    "colab_type": "code",
    "id": "F7dTAzgHDUh7"
   },
   "outputs": [],
   "source": [
    "if runTutorial:\n",
    "   loss, accuracy = model.evaluate(x_test,  y_test, verbose=2)\n",
    "   print(\"The image classifier is now trained to {:.3f}% accuracy on the test dataset.\".format(accuracy*100))"
   ]
  },
  {
   "cell_type": "markdown",
   "metadata": {},
   "source": [
    "## Use Model"
   ]
  },
  {
   "cell_type": "markdown",
   "metadata": {
    "colab_type": "text",
    "id": "Aj8NrlzlJqDG"
   },
   "source": [
    "To return a probability, wrap the trained model and attach the softmax to it:"
   ]
  },
  {
   "cell_type": "code",
   "execution_count": 15,
   "metadata": {
    "code_folding": [
     0
    ],
    "colab": {},
    "colab_type": "code",
    "id": "rYb6DrEH0GMv"
   },
   "outputs": [],
   "source": [
    "if runTutorial:\n",
    "   probability_model = tf.keras.Sequential([\n",
    "     model,\n",
    "     tf.keras.layers.Softmax(dtype='float64')\n",
    "   ])"
   ]
  },
  {
   "cell_type": "code",
   "execution_count": 16,
   "metadata": {
    "code_folding": [
     0
    ]
   },
   "outputs": [],
   "source": [
    "if runTutorial:\n",
    "   classes = np.array([0,1,2,3,4,5,6,7,8,9])\n",
    "   y_predict = probability_model(x_test).numpy()\n",
    "   y_classes = classes[y_predict.argmax(axis=1)] #.reshape((-1, 1))"
   ]
  },
  {
   "cell_type": "markdown",
   "metadata": {},
   "source": [
    "## Display Mis-Matches"
   ]
  },
  {
   "cell_type": "code",
   "execution_count": 17,
   "metadata": {
    "code_folding": [
     0
    ]
   },
   "outputs": [],
   "source": [
    "if runTutorial:\n",
    "   display_mismatch(x_test, y_classes, y_test)"
   ]
  },
  {
   "cell_type": "markdown",
   "metadata": {},
   "source": [
    "# --Epoch Sensitivity Study--"
   ]
  },
  {
   "cell_type": "code",
   "execution_count": 18,
   "metadata": {},
   "outputs": [],
   "source": [
    "nEpochs = [1,2,4,6,8,10,20,40]\n",
    "studyEpochs = False\n",
    "saveEpochs = True"
   ]
  },
  {
   "cell_type": "markdown",
   "metadata": {},
   "source": [
    "### Train and Test Model"
   ]
  },
  {
   "cell_type": "code",
   "execution_count": 30,
   "metadata": {
    "code_folding": []
   },
   "outputs": [],
   "source": [
    "# Train and Test Model Varying Epochs\n",
    "if studyEpochs:\n",
    "   results=[]\n",
    "   for i in nEpochs:\n",
    "       start_time = time.time()\n",
    "       model.fit(x_train, y_train, epochs=i)\n",
    "       loss, accuracy = model.evaluate(x_test,  y_test, verbose=2)\n",
    "       stop_time = time.time()\n",
    "       results.append([i,accuracy*100.,loss,stop_time-start_time])\n",
    "       print()\n",
    "        \n",
    "   eResults = pandas.DataFrame(results, \n",
    "              columns=('# Epochs', 'Accuracy', 'Loss', 'Time'))\n",
    "   myX = eResults['# Epochs']\n",
    "   myA = eResults['Accuracy']\n",
    "   myT = eResults['Time']"
   ]
  },
  {
   "cell_type": "code",
   "execution_count": 41,
   "metadata": {
    "code_folding": [
     0
    ]
   },
   "outputs": [],
   "source": [
    "# Show previously calculated results\n",
    "Image(filename=\"epochsT.png\", width=400, height=600)"
   ]
  },
  {
   "cell_type": "markdown",
   "metadata": {},
   "source": [
    "### Display Results Table"
   ]
  },
  {
   "cell_type": "code",
   "execution_count": 52,
   "metadata": {
    "code_folding": [
     0,
     1
    ]
   },
   "outputs": [
    {
     "name": "stdout",
     "output_type": "stream",
     "text": [
      "Press any key on image to continue...\n",
      "You will have to reselect notebook to continue...\n"
     ]
    }
   ],
   "source": [
    "# Display Epoch Results Table\n",
    "if studyEpochs:\n",
    "    display((eResults.sort_values(by=['# Epochs'],ascending=True)))\n",
    "else:\n",
    "    myImage = cv2.imread(\"epochsT.png\")\n",
    "    cv2.imshow('Epochs',myImage)\n",
    "    cv2.waitKey(0)\n",
    "    print(\"Press any key on image to continue...\")\n",
    "    cv2.destroyWindow('Epochs')\n",
    "    cv2.waitKey(1)\n",
    "    print(\"You will have to reselect notebook to continue...\")"
   ]
  },
  {
   "cell_type": "markdown",
   "metadata": {},
   "source": [
    "### Display Results Plot"
   ]
  },
  {
   "cell_type": "code",
   "execution_count": 54,
   "metadata": {
    "code_folding": [
     0
    ],
    "scrolled": true
   },
   "outputs": [
    {
     "name": "stdout",
     "output_type": "stream",
     "text": [
      "Press any key on image to continue...\n",
      "You will have to reselect notebook to continue...\n"
     ]
    }
   ],
   "source": [
    "# Display Epoch Results Plot\n",
    "if studyEpochs:\n",
    "    fig, axs = plt.subplots(nrows=1,ncols=2)\n",
    "    fig.set_size_inches(7,3.5)\n",
    "    \n",
    "    axs[0].plot(myX, myA)\n",
    "    axs[0].set_title('Accuracy')\n",
    "    axs[0].set_xlabel('# Epochs')\n",
    "    axs[0].set_ylabel('%')\n",
    "    \n",
    "    axs[1].plot(myX, myT)\n",
    "    axs[1].set_title('Time (s)')\n",
    "    axs[1].set_xlabel('# Epochs')\n",
    "    #axs[1].set_ylabel('s')\n",
    "    #fig.tight_layout()\n",
    "    \n",
    "    if saveEpochs:\n",
    "        plt.savefig('epochs.png')\n",
    "else:\n",
    "    myImage = cv2.imread(\"epochsF.png\")\n",
    "    cv2.imshow('Epochs',myImage)\n",
    "    cv2.waitKey(0)\n",
    "    print(\"Press any key on image to continue...\")\n",
    "    cv2.destroyWindow('Epochs')\n",
    "    cv2.waitKey(1)\n",
    "    print(\"You will have to reselect notebook to continue...\")"
   ]
  },
  {
   "cell_type": "markdown",
   "metadata": {},
   "source": [
    "# --Model Width and Depth Study--"
   ]
  },
  {
   "cell_type": "code",
   "execution_count": 55,
   "metadata": {},
   "outputs": [],
   "source": [
    "studyModels = True\n",
    "saveModels = True"
   ]
  },
  {
   "cell_type": "code",
   "execution_count": 63,
   "metadata": {},
   "outputs": [],
   "source": [
    "modelSetups = {\n",
    "    1: tf.keras.models.Sequential([\n",
    "    tf.keras.layers.Flatten(input_shape=(28, 28),dtype='float64'),\n",
    "    tf.keras.layers.Dense(128, activation='relu',dtype='float64'),\n",
    "    tf.keras.layers.Dropout(0.2,dtype='float64'),\n",
    "    tf.keras.layers.Dense(10,dtype='float64')])}\n",
    "\n",
    "loss_fn = tf.keras.losses.SparseCategoricalCrossentropy(from_logits=True)"
   ]
  },
  {
   "cell_type": "code",
   "execution_count": 77,
   "metadata": {},
   "outputs": [
    {
     "name": "stdout",
     "output_type": "stream",
     "text": [
      "Train on 60000 samples\n",
      "60000/60000 [==============================] - 7s 123us/sample - loss: 0.0761 - accuracy: 0.9769\n",
      "10000/1 - 1s - loss: 0.0432 - accuracy: 0.9748\n",
      "\n"
     ]
    }
   ],
   "source": [
    "if studyModels:\n",
    "   results = []\n",
    "\n",
    "   keyList = list(modelSetups.keys())\n",
    "   for i in keyList:\n",
    "       start_time = time.time()\n",
    "       model = modelSetups.get(i)\n",
    "       model.compile(optimizer='adam',\n",
    "                     loss=loss_fn,\n",
    "                     metrics=['accuracy'])\n",
    "       model.fit(x_train, y_train, epochs=1)\n",
    "       loss, accuracy = model.evaluate(x_test,  y_test, verbose=2)\n",
    "       stop_time = time.time()\n",
    "    \n",
    "       results.append([i,accuracy*100.,loss,stop_time-start_time])\n",
    "       print()\n",
    "        \n",
    "   mResults = pandas.DataFrame(results, \n",
    "              columns=('Ref #', 'Accuracy', 'Loss', 'Time'))\n",
    "   myMX = mResults['Ref #']\n",
    "   myMA = mResults['Accuracy']\n",
    "   myMT = mResults['Time']"
   ]
  },
  {
   "cell_type": "code",
   "execution_count": 79,
   "metadata": {},
   "outputs": [
    {
     "data": {
      "text/html": [
       "<div>\n",
       "<style scoped>\n",
       "    .dataframe tbody tr th:only-of-type {\n",
       "        vertical-align: middle;\n",
       "    }\n",
       "\n",
       "    .dataframe tbody tr th {\n",
       "        vertical-align: top;\n",
       "    }\n",
       "\n",
       "    .dataframe thead th {\n",
       "        text-align: right;\n",
       "    }\n",
       "</style>\n",
       "<table border=\"1\" class=\"dataframe\">\n",
       "  <thead>\n",
       "    <tr style=\"text-align: right;\">\n",
       "      <th></th>\n",
       "      <th>Ref #</th>\n",
       "      <th>Accuracy</th>\n",
       "      <th>Loss</th>\n",
       "      <th>Time</th>\n",
       "    </tr>\n",
       "  </thead>\n",
       "  <tbody>\n",
       "    <tr>\n",
       "      <th>0</th>\n",
       "      <td>1</td>\n",
       "      <td>97.479999</td>\n",
       "      <td>0.084587</td>\n",
       "      <td>8.035983</td>\n",
       "    </tr>\n",
       "  </tbody>\n",
       "</table>\n",
       "</div>"
      ],
      "text/plain": [
       "   Ref #   Accuracy      Loss      Time\n",
       "0      1  97.479999  0.084587  8.035983"
      ]
     },
     "metadata": {},
     "output_type": "display_data"
    }
   ],
   "source": [
    "# Display Epoch Results Table\n",
    "if studyModels:\n",
    "    display((mResults.sort_values(by=['Ref #'],ascending=True)))\n",
    "#else:\n",
    "    #myImage = cv2.imread(\"modelsT.png\")\n",
    "    #cv2.imshow('Models',myImage)\n",
    "    #cv2.waitKey(0)\n",
    "    #print(\"Press any key on image to continue...\")\n",
    "    #cv2.destroyWindow('Models')\n",
    "    #cv2.waitKey(1)\n",
    "    #print(\"You will have to reselect notebook to continue...\")"
   ]
  },
  {
   "cell_type": "code",
   "execution_count": null,
   "metadata": {},
   "outputs": [],
   "source": []
  }
 ],
 "metadata": {
  "colab": {
   "collapsed_sections": [
    "rX8mhOLljYeM"
   ],
   "name": "beginner.ipynb",
   "private_outputs": true,
   "provenance": [],
   "toc_visible": true
  },
  "kernelspec": {
   "display_name": "Python 3",
   "language": "python",
   "name": "python3"
  },
  "language_info": {
   "codemirror_mode": {
    "name": "ipython",
    "version": 3
   },
   "file_extension": ".py",
   "mimetype": "text/x-python",
   "name": "python",
   "nbconvert_exporter": "python",
   "pygments_lexer": "ipython3",
   "version": "3.7.6"
  }
 },
 "nbformat": 4,
 "nbformat_minor": 1
}
